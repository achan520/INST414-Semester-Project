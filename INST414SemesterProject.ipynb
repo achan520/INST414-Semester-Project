{
  "metadata": {
    "kernelspec": {
      "name": "python",
      "display_name": "Python (Pyodide)",
      "language": "python"
    },
    "language_info": {
      "codemirror_mode": {
        "name": "python",
        "version": 3
      },
      "file_extension": ".py",
      "mimetype": "text/x-python",
      "name": "python",
      "nbconvert_exporter": "python",
      "pygments_lexer": "ipython3",
      "version": "3.8"
    }
  },
  "nbformat_minor": 4,
  "nbformat": 4,
  "cells": [
    {
      "cell_type": "code",
      "source": "%matplotlib inline",
      "metadata": {
        "trusted": true
      },
      "outputs": [],
      "execution_count": null
    },
    {
      "cell_type": "code",
      "source": "import csv\nimport pandas as pd",
      "metadata": {
        "trusted": true
      },
      "outputs": [],
      "execution_count": null
    },
    {
      "cell_type": "code",
      "source": "# Read csv file\nfile = 'IMDb_All_Genres_etf_clean1.csv'\ndf = pd.read_csv(file)\ndf",
      "metadata": {
        "trusted": true
      },
      "outputs": [],
      "execution_count": null
    },
    {
      "cell_type": "code",
      "source": "# Create a dictionary to map each movie to its rating\nmovie_rating_map = {}\n\n# Create a dictionary to map each movie to its runtime\nmovie_runtime_map = {}\n\n# Iterate through the DataFrame\nfor index, row in df.iterrows():\n    movie = row['Movie_Title']\n    rating = row['Rating']  #'Rating' contains movie ratings\n    runtime = row['Runtime(Mins)'] #'Runtime(Mins)' contains the movie runtime\n    \n    # Add the movie and its rating to the dictionary\n    movie_rating_map[movie] = rating\n\n    # Add the movie and its runtime to the dictionary\n    movie_runtime_map[movie] = runtime\n\n",
      "metadata": {
        "trusted": true
      },
      "outputs": [],
      "execution_count": null
    },
    {
      "cell_type": "code",
      "source": "# The movie for which you want to find similar movies\ntarget_movie = 'The Dark Knight' ",
      "metadata": {
        "trusted": true
      },
      "outputs": [],
      "execution_count": null
    },
    {
      "cell_type": "code",
      "source": "from sklearn.metrics.pairwise import pairwise_distances",
      "metadata": {
        "trusted": true
      },
      "outputs": [],
      "execution_count": null
    },
    {
      "cell_type": "code",
      "source": "# Calculate pairwise Euclidean distance between movies based on their ratings\nratings = df['Rating'].values.reshape(-1, 1)\neuclidean_distances_rating = pairwise_distances(ratings, metric='euclidean')\n\n# Calculate pairwise Euclidean distance between movies based on their runtime\nruntime = df['Runtime(Mins)'].values.reshape(-1, 1)\neuclidean_distances_runtime = pairwise_distances(runtime, metric='euclidean')\n\n# Convert the Euclidean distance matrix into a DataFrame \neuclidean_distances_rating_df = pd.DataFrame(euclidean_distances_rating, index=df['Movie_Title'], columns=df['Movie_Title'])\neuclidean_distances_runtime_df = pd.DataFrame(euclidean_distances_runtime, index=df['Movie_Title'], columns=df['Movie_Title'])\n\n# Get the distance scores for the target movie based on rating\ndistances_rating = euclidean_distances_rating_df[target_movie].sort_values(ascending=True)\n\n# Get the distance scores for the target movie based on rating\ndistances_runtime = euclidean_distances_runtime_df[target_movie].sort_values(ascending=True)\n\n# Exclude the target movie from the top 10 list of similar movies\nsimilar_movies_rating = distances_rating.drop(target_movie)\nsimilar_movies_runtime = distances_runtime.drop(target_movie)\n\n# Print the top 10 similar movies based on rating\ntop_similar_movies_rating = similar_movies_rating.head(10)\nprint(top_similar_movies_rating)\n\n# Print the top 10 similar movies based on runtime\ntop_similar_movies_runtime = similar_movies_runtime.head(10)\nprint(top_similar_movies_runtime)",
      "metadata": {
        "trusted": true
      },
      "outputs": [],
      "execution_count": null
    },
    {
      "cell_type": "code",
      "source": "from sklearn.cluster import KMeans",
      "metadata": {
        "trusted": true
      },
      "outputs": [],
      "execution_count": null
    },
    {
      "cell_type": "code",
      "source": "# Select the features for clustering (ratings and runtime)\nX = df[['Rating', 'Runtime(Mins)']].values\n\n# Set the number of clusters\nnum_clusters = 12  \n\n# Initialize KMeans model\nkmeans = KMeans(n_clusters=num_clusters)\n\n# Fit the model to the data\nkmeans.fit(X)\n\n# Get the cluster labels for each movie\ncluster_labels = kmeans.labels_\n\n# Visualize the clusters\nplt.figure(figsize=(10, 6))\nfor cluster in range(num_clusters):\n    cluster_data = X[cluster_labels == cluster]\n    plt.scatter(cluster_data[:, 0], cluster_data[:, 1], label=f'Cluster {cluster+1}')\n\nplt.scatter(kmeans.cluster_centers_[:, 0], kmeans.cluster_centers_[:, 1], marker='x', color='black', label='Centroids')\nplt.xlabel('Rating')\nplt.ylabel('Runtime(Mins)')\nplt.title('Clustering Movies based on Ratings and Runtime')\nplt.legend()\nplt.show()\n\n# Group similar ratings in clusters\n# Print the movies in each cluster\n# Group similar ratings in clusters\nfor cluster in range(num_clusters):\n    cluster_movies = df[df['Cluster'] == cluster]['Movie_Title']\n    print(f'Cluster {cluster+1}: Size - {cluster_movies.shape[0]}')\n    print(\", \".join(cluster_movies.sample(5)))",
      "metadata": {
        "trusted": true
      },
      "outputs": [],
      "execution_count": null
    },
    {
      "cell_type": "code",
      "source": "",
      "metadata": {
        "trusted": true
      },
      "outputs": [],
      "execution_count": null
    },
    {
      "cell_type": "code",
      "source": "",
      "metadata": {
        "trusted": true
      },
      "outputs": [],
      "execution_count": null
    }
  ]
}